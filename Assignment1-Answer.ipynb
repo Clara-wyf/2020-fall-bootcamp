{
 "cells": [
  {
   "cell_type": "code",
   "execution_count": 1,
   "metadata": {},
   "outputs": [],
   "source": [
    "# Instruction: make sure your code pass the assertion statements\n",
    "\n",
    "# Given a positive integer N. The task is to write a Python program to check if the number is prime or not.\n",
    "def is_prime(n):\n",
    "    if n>1:\n",
    "        for i in range(2,n):\n",
    "            if (n%i)==0:\n",
    "                return False\n",
    "                break\n",
    "        return True\n",
    "    else:\n",
    "        return False\n",
    "\n",
    "# DO NOT ALTER BELOW.\n",
    "assert is_prime(2)\n",
    "assert not is_prime(15)\n",
    "assert is_prime(7907)\n",
    "assert not is_prime(-1)\n",
    "assert not is_prime(0)"
   ]
  },
  {
   "cell_type": "code",
   "execution_count": 3,
   "metadata": {},
   "outputs": [],
   "source": [
    "# Write a function rotate(ar[], d) that rotates arr[] of size n by d elements.\n",
    "# Input ar = [1,2,3,4,5,6,7], d = 2\n",
    "# Output [3,4,5,6,7,1,2]\n",
    "\n",
    "def rotate(ar, d):\n",
    "    d=d%len(ar)\n",
    "    return ar[d::]+ar[:d:]\n",
    "\n",
    "# DO NOT ALTER BELOW.\n",
    "assert rotate([1,2,3,4,5,6,7], 2) == [3,4,5,6,7,1,2]\n",
    "assert rotate([1,2,3], 4) == [2,3,1]"
   ]
  },
  {
   "cell_type": "code",
   "execution_count": 8,
   "metadata": {},
   "outputs": [],
   "source": [
    "# Selection sort - implement a workable selection sort algorithm\n",
    "# https://www.runoob.com/w3cnote/selection-sort.html 作为参考\n",
    "# Input students would be a list of [student #, score], sort by score ascending order.\n",
    "def selection_sort(students):\n",
    "    length=len(students)\n",
    "    for i in range(length - 1):\n",
    "        # 记录最小数的索引\n",
    "        minIndex = i\n",
    "        for j in range(i + 1, length):\n",
    "            if students[j][1] < students[minIndex][1]:\n",
    "                minIndex = j\n",
    "        # i 不是最小数时，将 i 和最小数进行交换\n",
    "        if i != minIndex:\n",
    "            students[i], students[minIndex] = students[minIndex], students[i]\n",
    "    return students\n",
    "\n",
    "# DO NOT ALTER BELOW.\n",
    "assert selection_sort([]) == []\n",
    "assert selection_sort([[1, 100], [2, 70], [3, 95], [4, 66], [5, 98]]) == [[4, 66], [2, 70], [3, 95], [5, 98], [1, 100]]"
   ]
  },
  {
   "cell_type": "code",
   "execution_count": 9,
   "metadata": {},
   "outputs": [],
   "source": [
    "# Convert a list of Tuples into Dictionary\n",
    "\n",
    "def convert(tup, di): \n",
    "    for a, b in tup: \n",
    "        di.setdefault(a, []).append(b) \n",
    "    return di\n",
    "    \n",
    "# DO NOT ALTER BELOW.\n",
    "assert convert((),{}) == {}\n",
    "assert convert([('key1', 'val' )],{})=={'key1':['val']}"
   ]
  },
  {
   "cell_type": "code",
   "execution_count": null,
   "metadata": {},
   "outputs": [],
   "source": [
    "# 研究为什么 Python dict 可以做到常数级别的查找效率，将答案写在 Assignment1-answer.ipynb\n",
    "\n",
    "#dict的底层是依靠哈希表(Hash Table)进行实现的，即默认在电脑中读取和写入一个已知地址的内存需要的最大时间是固定的，和可能写入内存的长度无关\n",
    "#在理想情况下，可以实现 O(1) 复杂度的检索和修改,但O（1）只是一种平均值\n",
    "#最坏情况下，所有键值都冲突，哈希表就会退化为一个线性表，数据检索复杂度会从 O(1) 上升为 O(n)。"
   ]
  },
  {
   "cell_type": "code",
   "execution_count": 38,
   "metadata": {},
   "outputs": [
    {
     "name": "stdout",
     "output_type": "stream",
     "text": [
      "True\n",
      "False\n",
      "True\n",
      "True\n",
      "False\n"
     ]
    }
   ],
   "source": [
    "#交易传输指令验证完整性\n",
    "def element_s(orders):\n",
    "    length=len(orders)\n",
    "    for i in range(length):\n",
    "        if orders[i]==')':\n",
    "            return i\n",
    "        else:\n",
    "            i+=1\n",
    "\n",
    "def element_m(orders):\n",
    "    length=len(orders)\n",
    "    for i in range(length):\n",
    "        if orders[i]==']':\n",
    "            return i\n",
    "        else:\n",
    "            i+=1\n",
    "def element_l(orders):\n",
    "    length=len(orders)\n",
    "    for i in range(length):\n",
    "        if orders[i]=='}':\n",
    "            return i\n",
    "        else:\n",
    "            i+=1   \n",
    "def checkOrders(orders):\n",
    "    length=len(orders)\n",
    "    if length%2==0:\n",
    "        while orders==\"\":\n",
    "            if orders[0]=='(':\n",
    "                s=element_s(orders)\n",
    "                if (s+1)%2==0:\n",
    "                    if(s)==1:\n",
    "                        orders=orders[s+1:length]\n",
    "                    else:\n",
    "                        checkOrders(orders[1,s])\n",
    "                else:\n",
    "                    return False             \n",
    "            elif orders[0]=='[':\n",
    "                m=element_m(orders)\n",
    "                if (m+1)%2==0:\n",
    "                    if(m)==1:\n",
    "                        orders=orders[m+1:length]\n",
    "                    else:\n",
    "                        checkOrders(orders[1,s])\n",
    "                else:\n",
    "                    return False\n",
    "                \n",
    "            elif orders[0]=='{':\n",
    "                l=element_l(orders)\n",
    "                if (l+1)%2==0:\n",
    "                    if(l)==1:\n",
    "                        orders=orders[l+1:length]\n",
    "                    else:\n",
    "                        checkOrders(orders[1,s])\n",
    "                else:\n",
    "                    return False              \n",
    "            else:\n",
    "                return False\n",
    "    else:\n",
    "        return False\n",
    "    return True\n",
    "\n",
    "print(checkOrders('()'))\n",
    "print(checkOrders('('))\n",
    "print(checkOrders('{}[]'))\n",
    "print(checkOrders('[][][]'))\n",
    "print(checkOrders('[{]{]'))"
   ]
  },
  {
   "cell_type": "code",
   "execution_count": 54,
   "metadata": {},
   "outputs": [
    {
     "name": "stdout",
     "output_type": "stream",
     "text": [
      "broker2出现了最慢的交易变现，用时10s\n"
     ]
    },
    {
     "data": {
      "text/plain": [
       "2"
      ]
     },
     "execution_count": 54,
     "metadata": {},
     "output_type": "execute_result"
    }
   ],
   "source": [
    "#判断最慢的broker公司。\n",
    "def slowest(orders):\n",
    "    length=len(orders)\n",
    "    a0=orders[0][1]-orders[0][0]\n",
    "    a=[a0]\n",
    "    for i in range(length-1):\n",
    "        x=orders[i+1][1]-orders[i][1]\n",
    "        a.append(x)\n",
    "    print(\"broker\"+str(orders[a.index(max(a))][0])+'出现了最慢的交易变现，用时'+str(max(a))+'s')\n",
    "    return orders[a.index(max(a))][0]\n",
    "\n",
    "slowest([[0,2], [1,5], [2,7], [0,16], [3,19], [4,25], [2,35]])"
   ]
  }
 ],
 "metadata": {
  "kernelspec": {
   "display_name": "Python 3",
   "language": "python",
   "name": "python3"
  },
  "language_info": {
   "codemirror_mode": {
    "name": "ipython",
    "version": 3
   },
   "file_extension": ".py",
   "mimetype": "text/x-python",
   "name": "python",
   "nbconvert_exporter": "python",
   "pygments_lexer": "ipython3",
   "version": "3.6.5"
  }
 },
 "nbformat": 4,
 "nbformat_minor": 4
}
