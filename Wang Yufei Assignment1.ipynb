{
 "cells": [
  {
   "cell_type": "code",
   "execution_count": 26,
   "metadata": {},
   "outputs": [],
   "source": [
    "# Instruction: make sure your code pass the assertion statements\n",
    "\n",
    "# Given a positive integer N. The task is to write a Python program to check if the number is prime or not.\n",
    "def is_prime(n):\n",
    "    if n>1:\n",
    "        for i in range(2,n):\n",
    "            if (n%i)==0:\n",
    "                return False\n",
    "                break\n",
    "        return True\n",
    "    else:\n",
    "        return False\n",
    " \n",
    "# DO NOT ALTER BELOW.\n",
    "assert is_prime(2)\n",
    "assert not is_prime(15)\n",
    "assert is_prime(7907)\n",
    "assert not is_prime(-1)\n",
    "assert not is_prime(0)"
   ]
  },
  {
   "cell_type": "code",
   "execution_count": 31,
   "metadata": {},
   "outputs": [],
   "source": [
    "# Write a function rotate(ar[], d) that rotates arr[] of size n by d elements.\n",
    "# Input ar = [1,2,3,4,5,6,7], d = 2\n",
    "# Output [3,4,5,6,7,1,2]\n",
    "\n",
    "def rotate(ar, d):\n",
    "    d=d%len(ar)\n",
    "    ar1=ar[:d:]\n",
    "    ar2=ar[d::]\n",
    "    return ar2+ar1\n",
    "\n",
    "# DO NOT ALTER BELOW.\n",
    "assert rotate([1,2,3,4,5,6,7], 2) == [3,4,5,6,7,1,2]\n",
    "assert rotate([1,2,3], 4) == [2,3,1]"
   ]
  },
  {
   "cell_type": "code",
   "execution_count": 35,
   "metadata": {},
   "outputs": [],
   "source": [
    "# Selection sort - implement a workable selection sort algorithm\n",
    "# https://www.runoob.com/w3cnote/selection-sort.html 作为参考\n",
    "# Input students would be a list of [student #, score], sort by score ascending order.\n",
    "def selection_sort(students):\n",
    "    if students==False:\n",
    "        return students\n",
    "    else:\n",
    "        length=len(students)\n",
    "        for i in range(length - 1):\n",
    "            # 记录最小数的索引\n",
    "            minIndex = i\n",
    "            for j in range(i + 1, length):\n",
    "                if students[j][1] < students[minIndex][1]:\n",
    "                    minIndex = j\n",
    "            # i 不是最小数时，将 i 和最小数进行交换\n",
    "            if i != minIndex:\n",
    "                students[i], students[minIndex] = students[minIndex], students[i]\n",
    "        return students\n",
    "\n",
    "\n",
    "# DO NOT ALTER BELOW.\n",
    "assert selection_sort([]) == []\n",
    "assert selection_sort([[1, 100], [2, 70], [3, 95], [4, 66], [5, 98]]) == [[4, 66], [2, 70], [3, 95], [5, 98], [1, 100]]"
   ]
  },
  {
   "cell_type": "code",
   "execution_count": 42,
   "metadata": {},
   "outputs": [],
   "source": [
    "# Convert a list of Tuples into Dictionary\n",
    "    \n",
    "def convert(tup, di): \n",
    "    for a, b in tup: \n",
    "        di.setdefault(a, []).append(b) \n",
    "    return di\n",
    "    \n",
    "# DO NOT ALTER BELOW.\n",
    "assert convert((),{}) == {}\n",
    "assert convert([('key1', 'val' )],{})=={'key1':['val']}"
   ]
  }
 ],
 "metadata": {
  "kernelspec": {
   "display_name": "Python 3",
   "language": "python",
   "name": "python3"
  },
  "language_info": {
   "codemirror_mode": {
    "name": "ipython",
    "version": 3
   },
   "file_extension": ".py",
   "mimetype": "text/x-python",
   "name": "python",
   "nbconvert_exporter": "python",
   "pygments_lexer": "ipython3",
   "version": "3.6.5"
  }
 },
 "nbformat": 4,
 "nbformat_minor": 4
}
